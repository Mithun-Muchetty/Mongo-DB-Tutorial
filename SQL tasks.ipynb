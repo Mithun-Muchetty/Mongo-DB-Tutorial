{
 "cells": [
  {
   "cell_type": "code",
   "execution_count": 2,
   "metadata": {},
   "outputs": [],
   "source": [
    "import sqlite3\n"
   ]
  },
  {
   "cell_type": "code",
   "execution_count": 8,
   "metadata": {},
   "outputs": [],
   "source": [
    "conn = sqlite3.connect(\"student.db\")"
   ]
  },
  {
   "cell_type": "code",
   "execution_count": 32,
   "metadata": {},
   "outputs": [
    {
     "data": {
      "text/plain": [
       "<sqlite3.Cursor at 0x18eaaaf7110>"
      ]
     },
     "execution_count": 32,
     "metadata": {},
     "output_type": "execute_result"
    }
   ],
   "source": [
    "#task1 \n",
    "conn.execute(\"CREATE TABLE students\\\n",
    "             (stud_fname CHAR(10) NOT NULL,\\\n",
    "             stud_lname CHAR(10) NOT NULL, \\\n",
    "             stud_age int, \\\n",
    "             stud_mobnum int ,\\\n",
    "             stud_address varchar(50) ,\\\n",
    "             stud_id char(10) PRIMARY KEY NOT NULL)\")"
   ]
  },
  {
   "cell_type": "code",
   "execution_count": 33,
   "metadata": {},
   "outputs": [
    {
     "data": {
      "text/plain": [
       "<sqlite3.Cursor at 0x18eaab80b90>"
      ]
     },
     "execution_count": 33,
     "metadata": {},
     "output_type": "execute_result"
    }
   ],
   "source": [
    "conn.execute(\"CREATE TABLE unit\\\n",
    "             (Unit_code char(10) not null ,\\\n",
    "             Unit_name char(10) ,\\\n",
    "             unit_sem integer) \")"
   ]
  },
  {
   "cell_type": "code",
   "execution_count": 34,
   "metadata": {},
   "outputs": [
    {
     "data": {
      "text/plain": [
       "<sqlite3.Cursor at 0x18eaab92570>"
      ]
     },
     "execution_count": 34,
     "metadata": {},
     "output_type": "execute_result"
    }
   ],
   "source": [
    "conn.execute(\"CREATE TABLE enrolmet\\\n",
    "             (stud_id CHAR(10) ,\\\n",
    "             unit_code CHAR(10) , \\\n",
    "             unit_sem int, \\\n",
    "             enrol_mark int , \\\n",
    "             enrol_grade char(10), \\\n",
    "             FOREIGN KEY(stud_id) references students(stud_id) ) \")"
   ]
  },
  {
   "cell_type": "code",
   "execution_count": 35,
   "metadata": {},
   "outputs": [
    {
     "data": {
      "text/plain": [
       "<sqlite3.Cursor at 0x18eaab809d0>"
      ]
     },
     "execution_count": 35,
     "metadata": {},
     "output_type": "execute_result"
    }
   ],
   "source": [
    "#task 2\n",
    "conn.execute(\"Insert into students VALUES('stu000','mithun','NM',26,9874563210,'Bangalore') \")\n",
    "conn.execute(\"Insert into students VALUES('stu001','sourabh','tiwari',29,8756485214,'hyderabad' )\")\n",
    "conn.execute(\"Insert into students VALUES('stu002','abhishek','nayar',30,996644880,'mumbai' )\")\n",
    "conn.execute(\"Insert into students VALUES('stu003','rahul','sharma',28,7788994455,'dehli' )\")\n",
    "\n",
    "\"\"\"             \n",
    "conn.execute(\"Insert into students VALUES('stu004','rajesh','M',25,7858456124,'Sangli')\")\n",
    "conn.execute(\"Insert into students VALUES('stu005','kalinga','A',26,6987458512,'gulbarga')\")\n",
    "conn.execute(\"Insert into students VALUES('stu006','rohit','P',26,7985467852,'sindgi')\")\n",
    "conn.execute(\"Insert into students VALUES('stu007','kamlesh','H',27,9874568475,'bangalore')\")\n",
    "\"\"\""
   ]
  },
  {
   "cell_type": "code",
   "execution_count": 37,
   "metadata": {},
   "outputs": [
    {
     "data": {
      "text/plain": [
       "<sqlite3.Cursor at 0x18eaaba9c70>"
      ]
     },
     "execution_count": 37,
     "metadata": {},
     "output_type": "execute_result"
    }
   ],
   "source": [
    "conn.execute(\"Insert into unit VALUES('PHY01','Physics',2) \")\n",
    "conn.execute(\"Insert into unit VALUES('CHM02','Chemistry',1)\")\n",
    "conn.execute(\"Insert into unit VALUES('CSE01','Computer Science',3)\")\n",
    "conn.execute(\"Insert into unit VALUES('Uni01','unix',4)\")\n",
    "conn.execute(\"Insert into unit VALUES('DataStr0','Data Struture',5)\")"
   ]
  },
  {
   "cell_type": "code",
   "execution_count": 42,
   "metadata": {},
   "outputs": [
    {
     "data": {
      "text/plain": [
       "<sqlite3.Cursor at 0x18eaabb6a40>"
      ]
     },
     "execution_count": 42,
     "metadata": {},
     "output_type": "execute_result"
    }
   ],
   "source": [
    "\n",
    "conn.execute(\"Insert into enrolmet VALUES('stu000','PHY01',2,70,'B')\")\n",
    "conn.execute(\"Insert into enrolmet VALUES('stu001','CHM02',1,85,'A')\")\n",
    "conn.execute(\"Insert into enrolmet VALUES('stu002','CHM02',1,65,'C')\")\n",
    "conn.execute(\"Insert into enrolmet VALUES('stu003','CSE01',3,55,'P')\")\n",
    "conn.execute(\"Insert into enrolmet VALUES('stu004','PHY01',2,92,'S')\")\n",
    "conn.execute(\"Insert into enrolmet VALUES('stu005','uni01',4,69,'C')\")\n",
    "conn.execute(\"Insert into enrolmet VALUES('stu006','datastr0',5,81,'A')\")\n",
    "conn.execute(\"Insert into enrolmet VALUES('stu007','CHM02',1,91,'S')\")\n",
    "             \n"
   ]
  },
  {
   "cell_type": "code",
   "execution_count": 48,
   "metadata": {},
   "outputs": [
    {
     "data": {
      "text/plain": [
       "<sqlite3.Cursor at 0x18eaaba9e30>"
      ]
     },
     "execution_count": 48,
     "metadata": {},
     "output_type": "execute_result"
    }
   ],
   "source": [
    "#Task 3 A.\n",
    "conn.execute(\"select * from students where stud_id in (select stud_id from enrolmet where enrol_mark>70 )\")"
   ]
  },
  {
   "cell_type": "code",
   "execution_count": 50,
   "metadata": {},
   "outputs": [
    {
     "data": {
      "text/plain": [
       "<sqlite3.Cursor at 0x18eaaba90a0>"
      ]
     },
     "execution_count": 50,
     "metadata": {},
     "output_type": "execute_result"
    }
   ],
   "source": [
    "#B .\n",
    "conn.execute(\"select a.stud_id, a.stud_fname,b.unit_name  from students a , unit b \\\n",
    "           where b.unit_sem=2 \")"
   ]
  },
  {
   "cell_type": "code",
   "execution_count": 51,
   "metadata": {},
   "outputs": [
    {
     "data": {
      "text/plain": [
       "<sqlite3.Cursor at 0x18eaab921f0>"
      ]
     },
     "execution_count": 51,
     "metadata": {},
     "output_type": "execute_result"
    }
   ],
   "source": [
    "# C.\n",
    "conn.execute(\"select enrol_grade from enrolmet where unit_sem=1\")"
   ]
  },
  {
   "cell_type": "code",
   "execution_count": 52,
   "metadata": {},
   "outputs": [
    {
     "data": {
      "text/plain": [
       "<sqlite3.Cursor at 0x18eaab92e30>"
      ]
     },
     "execution_count": 52,
     "metadata": {},
     "output_type": "execute_result"
    }
   ],
   "source": [
    "#task 4\n",
    "conn.execute(\"delete from students\")"
   ]
  },
  {
   "cell_type": "code",
   "execution_count": 53,
   "metadata": {},
   "outputs": [
    {
     "data": {
      "text/plain": [
       "<sqlite3.Cursor at 0x18eaab80570>"
      ]
     },
     "execution_count": 53,
     "metadata": {},
     "output_type": "execute_result"
    }
   ],
   "source": [
    "conn.execute(\"delete from unit\")"
   ]
  },
  {
   "cell_type": "code",
   "execution_count": 54,
   "metadata": {},
   "outputs": [
    {
     "data": {
      "text/plain": [
       "<sqlite3.Cursor at 0x18eaabb1180>"
      ]
     },
     "execution_count": 54,
     "metadata": {},
     "output_type": "execute_result"
    }
   ],
   "source": [
    "conn.execute(\"delete from enrolmet\")"
   ]
  },
  {
   "cell_type": "code",
   "execution_count": null,
   "metadata": {},
   "outputs": [],
   "source": []
  }
 ],
 "metadata": {
  "kernelspec": {
   "display_name": "Python 3",
   "language": "python",
   "name": "python3"
  },
  "language_info": {
   "codemirror_mode": {
    "name": "ipython",
    "version": 3
   },
   "file_extension": ".py",
   "mimetype": "text/x-python",
   "name": "python",
   "nbconvert_exporter": "python",
   "pygments_lexer": "ipython3",
   "version": "3.7.6"
  }
 },
 "nbformat": 4,
 "nbformat_minor": 4
}
